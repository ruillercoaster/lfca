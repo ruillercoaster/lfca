{
 "cells": [
  {
   "cell_type": "code",
   "execution_count": 23,
   "metadata": {},
   "outputs": [],
   "source": [
    "import numpy as np\n",
    "import scipy as sp\n",
    "from scipy import io\n",
    "from matplotlib import pyplot as plt\n",
    "from netCDF4 import Dataset,num2date\n",
    "from datetime import datetime, timedelta"
   ]
  },
  {
   "cell_type": "code",
   "execution_count": 7,
   "metadata": {},
   "outputs": [],
   "source": [
    "examplef = '/export/data1/rccheng/ERSSTv5/ERSST_1900_2016.mat'\n",
    "mat = io.loadmat(examplef)\n",
    "\n",
    "lat_axis = mat['LAT_AXIS']\n",
    "lon_axis = mat['LON_AXIS']\n",
    "sst = mat['SST']\n",
    "nlon = sst.shape[0]\n",
    "nlat = sst.shape[1]\n",
    "ntime = sst.shape[2]\n",
    "time = np.arange(1900,2016.99,1/12.)"
   ]
  },
  {
   "cell_type": "code",
   "execution_count": 4,
   "metadata": {},
   "outputs": [
    {
     "data": {
      "text/plain": [
       "array([[ 88,  86,  84,  82,  80,  78,  76,  74,  72,  70,  68,  66,  64,\n",
       "         62,  60,  58,  56,  54,  52,  50,  48,  46,  44,  42,  40,  38,\n",
       "         36,  34,  32,  30,  28,  26,  24,  22,  20,  18,  16,  14,  12,\n",
       "         10,   8,   6,   4,   2,   0,  -2,  -4,  -6,  -8, -10, -12, -14,\n",
       "        -16, -18, -20, -22, -24, -26, -28, -30, -32, -34, -36, -38, -40,\n",
       "        -42, -44, -46, -48, -50, -52, -54, -56, -58, -60, -62, -64, -66,\n",
       "        -68, -70, -72, -74, -76, -78, -80, -82, -84, -86, -88]],\n",
       "      dtype=int16)"
      ]
     },
     "execution_count": 4,
     "metadata": {},
     "output_type": "execute_result"
    }
   ],
   "source": [
    "lat_axis"
   ]
  },
  {
   "cell_type": "code",
   "execution_count": 5,
   "metadata": {},
   "outputs": [
    {
     "data": {
      "text/plain": [
       "array([[  0],\n",
       "       [  2],\n",
       "       [  4],\n",
       "       [  6],\n",
       "       [  8],\n",
       "       [ 10],\n",
       "       [ 12],\n",
       "       [ 14],\n",
       "       [ 16],\n",
       "       [ 18],\n",
       "       [ 20],\n",
       "       [ 22],\n",
       "       [ 24],\n",
       "       [ 26],\n",
       "       [ 28],\n",
       "       [ 30],\n",
       "       [ 32],\n",
       "       [ 34],\n",
       "       [ 36],\n",
       "       [ 38],\n",
       "       [ 40],\n",
       "       [ 42],\n",
       "       [ 44],\n",
       "       [ 46],\n",
       "       [ 48],\n",
       "       [ 50],\n",
       "       [ 52],\n",
       "       [ 54],\n",
       "       [ 56],\n",
       "       [ 58],\n",
       "       [ 60],\n",
       "       [ 62],\n",
       "       [ 64],\n",
       "       [ 66],\n",
       "       [ 68],\n",
       "       [ 70],\n",
       "       [ 72],\n",
       "       [ 74],\n",
       "       [ 76],\n",
       "       [ 78],\n",
       "       [ 80],\n",
       "       [ 82],\n",
       "       [ 84],\n",
       "       [ 86],\n",
       "       [ 88],\n",
       "       [ 90],\n",
       "       [ 92],\n",
       "       [ 94],\n",
       "       [ 96],\n",
       "       [ 98],\n",
       "       [100],\n",
       "       [102],\n",
       "       [104],\n",
       "       [106],\n",
       "       [108],\n",
       "       [110],\n",
       "       [112],\n",
       "       [114],\n",
       "       [116],\n",
       "       [118],\n",
       "       [120],\n",
       "       [122],\n",
       "       [124],\n",
       "       [126],\n",
       "       [128],\n",
       "       [130],\n",
       "       [132],\n",
       "       [134],\n",
       "       [136],\n",
       "       [138],\n",
       "       [140],\n",
       "       [142],\n",
       "       [144],\n",
       "       [146],\n",
       "       [148],\n",
       "       [150],\n",
       "       [152],\n",
       "       [154],\n",
       "       [156],\n",
       "       [158],\n",
       "       [160],\n",
       "       [162],\n",
       "       [164],\n",
       "       [166],\n",
       "       [168],\n",
       "       [170],\n",
       "       [172],\n",
       "       [174],\n",
       "       [176],\n",
       "       [178],\n",
       "       [180],\n",
       "       [182],\n",
       "       [184],\n",
       "       [186],\n",
       "       [188],\n",
       "       [190],\n",
       "       [192],\n",
       "       [194],\n",
       "       [196],\n",
       "       [198],\n",
       "       [200],\n",
       "       [202],\n",
       "       [204],\n",
       "       [206],\n",
       "       [208],\n",
       "       [210],\n",
       "       [212],\n",
       "       [214],\n",
       "       [216],\n",
       "       [218],\n",
       "       [220],\n",
       "       [222],\n",
       "       [224],\n",
       "       [226],\n",
       "       [228],\n",
       "       [230],\n",
       "       [232],\n",
       "       [234],\n",
       "       [236],\n",
       "       [238],\n",
       "       [240],\n",
       "       [242],\n",
       "       [244],\n",
       "       [246],\n",
       "       [248],\n",
       "       [250],\n",
       "       [252],\n",
       "       [254],\n",
       "       [256],\n",
       "       [258],\n",
       "       [260],\n",
       "       [262],\n",
       "       [264],\n",
       "       [266],\n",
       "       [268],\n",
       "       [270],\n",
       "       [272],\n",
       "       [274],\n",
       "       [276],\n",
       "       [278],\n",
       "       [280],\n",
       "       [282],\n",
       "       [284],\n",
       "       [286],\n",
       "       [288],\n",
       "       [290],\n",
       "       [292],\n",
       "       [294],\n",
       "       [296],\n",
       "       [298],\n",
       "       [300],\n",
       "       [302],\n",
       "       [304],\n",
       "       [306],\n",
       "       [308],\n",
       "       [310],\n",
       "       [312],\n",
       "       [314],\n",
       "       [316],\n",
       "       [318],\n",
       "       [320],\n",
       "       [322],\n",
       "       [324],\n",
       "       [326],\n",
       "       [328],\n",
       "       [330],\n",
       "       [332],\n",
       "       [334],\n",
       "       [336],\n",
       "       [338],\n",
       "       [340],\n",
       "       [342],\n",
       "       [344],\n",
       "       [346],\n",
       "       [348],\n",
       "       [350],\n",
       "       [352],\n",
       "       [354],\n",
       "       [356],\n",
       "       [358]], dtype=uint16)"
      ]
     },
     "execution_count": 5,
     "metadata": {},
     "output_type": "execute_result"
    }
   ],
   "source": [
    "lon_axis"
   ]
  },
  {
   "cell_type": "code",
   "execution_count": 6,
   "metadata": {},
   "outputs": [
    {
     "data": {
      "text/plain": [
       "(180, 89, 1404)"
      ]
     },
     "execution_count": 6,
     "metadata": {},
     "output_type": "execute_result"
    }
   ],
   "source": [
    "sst.shape"
   ]
  },
  {
   "cell_type": "code",
   "execution_count": 8,
   "metadata": {},
   "outputs": [
    {
     "data": {
      "text/plain": [
       "array([1900.        , 1900.08333333, 1900.16666667, ..., 2016.75      ,\n",
       "       2016.83333333, 2016.91666667])"
      ]
     },
     "execution_count": 8,
     "metadata": {},
     "output_type": "execute_result"
    }
   ],
   "source": [
    "time"
   ]
  },
  {
   "cell_type": "code",
   "execution_count": 9,
   "metadata": {},
   "outputs": [
    {
     "data": {
      "text/plain": [
       "array([1900.        , 1900.08333333, 1900.16666667, 1900.25      ,\n",
       "       1900.33333333, 1900.41666667, 1900.5       , 1900.58333333,\n",
       "       1900.66666667, 1900.75      , 1900.83333333, 1900.91666667])"
      ]
     },
     "execution_count": 9,
     "metadata": {},
     "output_type": "execute_result"
    }
   ],
   "source": [
    "time[:12]"
   ]
  },
  {
   "cell_type": "code",
   "execution_count": 12,
   "metadata": {},
   "outputs": [],
   "source": [
    "with Dataset('/export/data1/rccheng/ERSSTv5/sst.mnmean.nc') as f:\n",
    "    er_lat = f['lat'][:]\n",
    "    er_lon = f['lon'][:]\n",
    "    er_time = f['time'][:]\n",
    "    er_sst = f['sst'][:]\n",
    "    \n"
   ]
  },
  {
   "cell_type": "code",
   "execution_count": 14,
   "metadata": {},
   "outputs": [],
   "source": [
    "er_sst[er_sst<-9e36] = np.nan"
   ]
  },
  {
   "cell_type": "code",
   "execution_count": 15,
   "metadata": {},
   "outputs": [
    {
     "data": {
      "text/plain": [
       "masked_array(\n",
       "  data=[[[-1.7999999523162842, -1.7999999523162842, -1.7999999523162842,\n",
       "          ..., -1.7999999523162842, -1.7999999523162842,\n",
       "          -1.7999999523162842],\n",
       "         [-1.7999999523162842, -1.7999999523162842, -1.7999999523162842,\n",
       "          ..., -1.7999999523162842, -1.7999999523162842,\n",
       "          -1.7999999523162842],\n",
       "         [-1.7999999523162842, -1.7999999523162842, -1.7999999523162842,\n",
       "          ..., -1.7999999523162842, -1.7999999523162842,\n",
       "          -1.7999999523162842],\n",
       "         ...,\n",
       "         [nan, nan, nan, ..., nan, nan, nan],\n",
       "         [nan, nan, nan, ..., nan, nan, nan],\n",
       "         [nan, nan, nan, ..., nan, nan, nan]],\n",
       "\n",
       "        [[-1.7999999523162842, -1.7999999523162842, -1.7999999523162842,\n",
       "          ..., -1.7999999523162842, -1.7999999523162842,\n",
       "          -1.7999999523162842],\n",
       "         [-1.7999999523162842, -1.7999999523162842, -1.7999999523162842,\n",
       "          ..., -1.7999999523162842, -1.7999999523162842,\n",
       "          -1.7999999523162842],\n",
       "         [-1.7999999523162842, -1.7999999523162842, -1.7999999523162842,\n",
       "          ..., -1.7999999523162842, -1.7999999523162842,\n",
       "          -1.7999999523162842],\n",
       "         ...,\n",
       "         [nan, nan, nan, ..., nan, nan, nan],\n",
       "         [nan, nan, nan, ..., nan, nan, nan],\n",
       "         [nan, nan, nan, ..., nan, nan, nan]],\n",
       "\n",
       "        [[-1.7999999523162842, -1.7999999523162842, -1.7999999523162842,\n",
       "          ..., -1.7999999523162842, -1.7999999523162842,\n",
       "          -1.7999999523162842],\n",
       "         [-1.7999999523162842, -1.7999999523162842, -1.7999999523162842,\n",
       "          ..., -1.7999999523162842, -1.7999999523162842,\n",
       "          -1.7999999523162842],\n",
       "         [-1.7999999523162842, -1.7999999523162842, -1.7999999523162842,\n",
       "          ..., -1.7999999523162842, -1.7999999523162842,\n",
       "          -1.7999999523162842],\n",
       "         ...,\n",
       "         [nan, nan, nan, ..., nan, nan, nan],\n",
       "         [nan, nan, nan, ..., nan, nan, nan],\n",
       "         [nan, nan, nan, ..., nan, nan, nan]],\n",
       "\n",
       "        ...,\n",
       "\n",
       "        [[-1.7999999523162842, -1.7999999523162842, -1.7999999523162842,\n",
       "          ..., -1.7999999523162842, -1.7999999523162842,\n",
       "          -1.7999999523162842],\n",
       "         [-1.7999999523162842, -1.7999999523162842, -1.7999999523162842,\n",
       "          ..., -1.7999999523162842, -1.7999999523162842,\n",
       "          -1.7999999523162842],\n",
       "         [-1.7999999523162842, -1.7999999523162842, -1.7999999523162842,\n",
       "          ..., -1.7999999523162842, -1.7999999523162842,\n",
       "          -1.7999999523162842],\n",
       "         ...,\n",
       "         [nan, nan, nan, ..., nan, nan, nan],\n",
       "         [nan, nan, nan, ..., nan, nan, nan],\n",
       "         [nan, nan, nan, ..., nan, nan, nan]],\n",
       "\n",
       "        [[-1.7999999523162842, -1.7999999523162842, -1.7999999523162842,\n",
       "          ..., -1.7999999523162842, -1.7999999523162842,\n",
       "          -1.7999999523162842],\n",
       "         [-1.7999999523162842, -1.7999999523162842, -1.7999999523162842,\n",
       "          ..., -1.7999999523162842, -1.7999999523162842,\n",
       "          -1.7999999523162842],\n",
       "         [-1.7999999523162842, -1.7999999523162842, -1.7999999523162842,\n",
       "          ..., -1.7999999523162842, -1.7999999523162842,\n",
       "          -1.7999999523162842],\n",
       "         ...,\n",
       "         [nan, nan, nan, ..., nan, nan, nan],\n",
       "         [nan, nan, nan, ..., nan, nan, nan],\n",
       "         [nan, nan, nan, ..., nan, nan, nan]],\n",
       "\n",
       "        [[-1.7999999523162842, -1.7999999523162842, -1.7999999523162842,\n",
       "          ..., -1.7999999523162842, -1.7999999523162842,\n",
       "          -1.7999999523162842],\n",
       "         [-1.7999999523162842, -1.7999999523162842, -1.7999999523162842,\n",
       "          ..., -1.7999999523162842, -1.7999999523162842,\n",
       "          -1.7999999523162842],\n",
       "         [-1.7999999523162842, -1.7999999523162842, -1.7999999523162842,\n",
       "          ..., -1.7999999523162842, -1.7999999523162842,\n",
       "          -1.7999999523162842],\n",
       "         ...,\n",
       "         [nan, nan, nan, ..., nan, nan, nan],\n",
       "         [nan, nan, nan, ..., nan, nan, nan],\n",
       "         [nan, nan, nan, ..., nan, nan, nan]]],\n",
       "  mask=[[[False, False, False, ..., False, False, False],\n",
       "         [False, False, False, ..., False, False, False],\n",
       "         [False, False, False, ..., False, False, False],\n",
       "         ...,\n",
       "         [False, False, False, ..., False, False, False],\n",
       "         [False, False, False, ..., False, False, False],\n",
       "         [False, False, False, ..., False, False, False]],\n",
       "\n",
       "        [[False, False, False, ..., False, False, False],\n",
       "         [False, False, False, ..., False, False, False],\n",
       "         [False, False, False, ..., False, False, False],\n",
       "         ...,\n",
       "         [False, False, False, ..., False, False, False],\n",
       "         [False, False, False, ..., False, False, False],\n",
       "         [False, False, False, ..., False, False, False]],\n",
       "\n",
       "        [[False, False, False, ..., False, False, False],\n",
       "         [False, False, False, ..., False, False, False],\n",
       "         [False, False, False, ..., False, False, False],\n",
       "         ...,\n",
       "         [False, False, False, ..., False, False, False],\n",
       "         [False, False, False, ..., False, False, False],\n",
       "         [False, False, False, ..., False, False, False]],\n",
       "\n",
       "        ...,\n",
       "\n",
       "        [[False, False, False, ..., False, False, False],\n",
       "         [False, False, False, ..., False, False, False],\n",
       "         [False, False, False, ..., False, False, False],\n",
       "         ...,\n",
       "         [False, False, False, ..., False, False, False],\n",
       "         [False, False, False, ..., False, False, False],\n",
       "         [False, False, False, ..., False, False, False]],\n",
       "\n",
       "        [[False, False, False, ..., False, False, False],\n",
       "         [False, False, False, ..., False, False, False],\n",
       "         [False, False, False, ..., False, False, False],\n",
       "         ...,\n",
       "         [False, False, False, ..., False, False, False],\n",
       "         [False, False, False, ..., False, False, False],\n",
       "         [False, False, False, ..., False, False, False]],\n",
       "\n",
       "        [[False, False, False, ..., False, False, False],\n",
       "         [False, False, False, ..., False, False, False],\n",
       "         [False, False, False, ..., False, False, False],\n",
       "         ...,\n",
       "         [False, False, False, ..., False, False, False],\n",
       "         [False, False, False, ..., False, False, False],\n",
       "         [False, False, False, ..., False, False, False]]],\n",
       "  fill_value=-9.96921e+36,\n",
       "  dtype=float32)"
      ]
     },
     "execution_count": 15,
     "metadata": {},
     "output_type": "execute_result"
    }
   ],
   "source": [
    "er_sst"
   ]
  },
  {
   "cell_type": "code",
   "execution_count": 16,
   "metadata": {},
   "outputs": [
    {
     "data": {
      "text/plain": [
       "masked_array(data=[ 88.,  86.,  84.,  82.,  80.,  78.,  76.,  74.,  72.,\n",
       "                    70.,  68.,  66.,  64.,  62.,  60.,  58.,  56.,  54.,\n",
       "                    52.,  50.,  48.,  46.,  44.,  42.,  40.,  38.,  36.,\n",
       "                    34.,  32.,  30.,  28.,  26.,  24.,  22.,  20.,  18.,\n",
       "                    16.,  14.,  12.,  10.,   8.,   6.,   4.,   2.,   0.,\n",
       "                    -2.,  -4.,  -6.,  -8., -10., -12., -14., -16., -18.,\n",
       "                   -20., -22., -24., -26., -28., -30., -32., -34., -36.,\n",
       "                   -38., -40., -42., -44., -46., -48., -50., -52., -54.,\n",
       "                   -56., -58., -60., -62., -64., -66., -68., -70., -72.,\n",
       "                   -74., -76., -78., -80., -82., -84., -86., -88.],\n",
       "             mask=False,\n",
       "       fill_value=1e+20,\n",
       "            dtype=float32)"
      ]
     },
     "execution_count": 16,
     "metadata": {},
     "output_type": "execute_result"
    }
   ],
   "source": [
    "er_lat"
   ]
  },
  {
   "cell_type": "code",
   "execution_count": 18,
   "metadata": {},
   "outputs": [
    {
     "data": {
      "text/plain": [
       "array([[ 88,  86,  84,  82,  80,  78,  76,  74,  72,  70,  68,  66,  64,\n",
       "         62,  60,  58,  56,  54,  52,  50,  48,  46,  44,  42,  40,  38,\n",
       "         36,  34,  32,  30,  28,  26,  24,  22,  20,  18,  16,  14,  12,\n",
       "         10,   8,   6,   4,   2,   0,  -2,  -4,  -6,  -8, -10, -12, -14,\n",
       "        -16, -18, -20, -22, -24, -26, -28, -30, -32, -34, -36, -38, -40,\n",
       "        -42, -44, -46, -48, -50, -52, -54, -56, -58, -60, -62, -64, -66,\n",
       "        -68, -70, -72, -74, -76, -78, -80, -82, -84, -86, -88]],\n",
       "      dtype=int16)"
      ]
     },
     "execution_count": 18,
     "metadata": {},
     "output_type": "execute_result"
    }
   ],
   "source": [
    "lat_axis"
   ]
  },
  {
   "cell_type": "code",
   "execution_count": 19,
   "metadata": {},
   "outputs": [
    {
     "data": {
      "text/plain": [
       "masked_array(data=[  0.,   2.,   4.,   6.,   8.,  10.,  12.,  14.,  16.,\n",
       "                    18.,  20.,  22.,  24.,  26.,  28.,  30.,  32.,  34.,\n",
       "                    36.,  38.,  40.,  42.,  44.,  46.,  48.,  50.,  52.,\n",
       "                    54.,  56.,  58.,  60.,  62.,  64.,  66.,  68.,  70.,\n",
       "                    72.,  74.,  76.,  78.,  80.,  82.,  84.,  86.,  88.,\n",
       "                    90.,  92.,  94.,  96.,  98., 100., 102., 104., 106.,\n",
       "                   108., 110., 112., 114., 116., 118., 120., 122., 124.,\n",
       "                   126., 128., 130., 132., 134., 136., 138., 140., 142.,\n",
       "                   144., 146., 148., 150., 152., 154., 156., 158., 160.,\n",
       "                   162., 164., 166., 168., 170., 172., 174., 176., 178.,\n",
       "                   180., 182., 184., 186., 188., 190., 192., 194., 196.,\n",
       "                   198., 200., 202., 204., 206., 208., 210., 212., 214.,\n",
       "                   216., 218., 220., 222., 224., 226., 228., 230., 232.,\n",
       "                   234., 236., 238., 240., 242., 244., 246., 248., 250.,\n",
       "                   252., 254., 256., 258., 260., 262., 264., 266., 268.,\n",
       "                   270., 272., 274., 276., 278., 280., 282., 284., 286.,\n",
       "                   288., 290., 292., 294., 296., 298., 300., 302., 304.,\n",
       "                   306., 308., 310., 312., 314., 316., 318., 320., 322.,\n",
       "                   324., 326., 328., 330., 332., 334., 336., 338., 340.,\n",
       "                   342., 344., 346., 348., 350., 352., 354., 356., 358.],\n",
       "             mask=False,\n",
       "       fill_value=1e+20,\n",
       "            dtype=float32)"
      ]
     },
     "execution_count": 19,
     "metadata": {},
     "output_type": "execute_result"
    }
   ],
   "source": [
    "er_lon"
   ]
  },
  {
   "cell_type": "code",
   "execution_count": 20,
   "metadata": {},
   "outputs": [
    {
     "data": {
      "text/plain": [
       "array([[  0],\n",
       "       [  2],\n",
       "       [  4],\n",
       "       [  6],\n",
       "       [  8],\n",
       "       [ 10],\n",
       "       [ 12],\n",
       "       [ 14],\n",
       "       [ 16],\n",
       "       [ 18],\n",
       "       [ 20],\n",
       "       [ 22],\n",
       "       [ 24],\n",
       "       [ 26],\n",
       "       [ 28],\n",
       "       [ 30],\n",
       "       [ 32],\n",
       "       [ 34],\n",
       "       [ 36],\n",
       "       [ 38],\n",
       "       [ 40],\n",
       "       [ 42],\n",
       "       [ 44],\n",
       "       [ 46],\n",
       "       [ 48],\n",
       "       [ 50],\n",
       "       [ 52],\n",
       "       [ 54],\n",
       "       [ 56],\n",
       "       [ 58],\n",
       "       [ 60],\n",
       "       [ 62],\n",
       "       [ 64],\n",
       "       [ 66],\n",
       "       [ 68],\n",
       "       [ 70],\n",
       "       [ 72],\n",
       "       [ 74],\n",
       "       [ 76],\n",
       "       [ 78],\n",
       "       [ 80],\n",
       "       [ 82],\n",
       "       [ 84],\n",
       "       [ 86],\n",
       "       [ 88],\n",
       "       [ 90],\n",
       "       [ 92],\n",
       "       [ 94],\n",
       "       [ 96],\n",
       "       [ 98],\n",
       "       [100],\n",
       "       [102],\n",
       "       [104],\n",
       "       [106],\n",
       "       [108],\n",
       "       [110],\n",
       "       [112],\n",
       "       [114],\n",
       "       [116],\n",
       "       [118],\n",
       "       [120],\n",
       "       [122],\n",
       "       [124],\n",
       "       [126],\n",
       "       [128],\n",
       "       [130],\n",
       "       [132],\n",
       "       [134],\n",
       "       [136],\n",
       "       [138],\n",
       "       [140],\n",
       "       [142],\n",
       "       [144],\n",
       "       [146],\n",
       "       [148],\n",
       "       [150],\n",
       "       [152],\n",
       "       [154],\n",
       "       [156],\n",
       "       [158],\n",
       "       [160],\n",
       "       [162],\n",
       "       [164],\n",
       "       [166],\n",
       "       [168],\n",
       "       [170],\n",
       "       [172],\n",
       "       [174],\n",
       "       [176],\n",
       "       [178],\n",
       "       [180],\n",
       "       [182],\n",
       "       [184],\n",
       "       [186],\n",
       "       [188],\n",
       "       [190],\n",
       "       [192],\n",
       "       [194],\n",
       "       [196],\n",
       "       [198],\n",
       "       [200],\n",
       "       [202],\n",
       "       [204],\n",
       "       [206],\n",
       "       [208],\n",
       "       [210],\n",
       "       [212],\n",
       "       [214],\n",
       "       [216],\n",
       "       [218],\n",
       "       [220],\n",
       "       [222],\n",
       "       [224],\n",
       "       [226],\n",
       "       [228],\n",
       "       [230],\n",
       "       [232],\n",
       "       [234],\n",
       "       [236],\n",
       "       [238],\n",
       "       [240],\n",
       "       [242],\n",
       "       [244],\n",
       "       [246],\n",
       "       [248],\n",
       "       [250],\n",
       "       [252],\n",
       "       [254],\n",
       "       [256],\n",
       "       [258],\n",
       "       [260],\n",
       "       [262],\n",
       "       [264],\n",
       "       [266],\n",
       "       [268],\n",
       "       [270],\n",
       "       [272],\n",
       "       [274],\n",
       "       [276],\n",
       "       [278],\n",
       "       [280],\n",
       "       [282],\n",
       "       [284],\n",
       "       [286],\n",
       "       [288],\n",
       "       [290],\n",
       "       [292],\n",
       "       [294],\n",
       "       [296],\n",
       "       [298],\n",
       "       [300],\n",
       "       [302],\n",
       "       [304],\n",
       "       [306],\n",
       "       [308],\n",
       "       [310],\n",
       "       [312],\n",
       "       [314],\n",
       "       [316],\n",
       "       [318],\n",
       "       [320],\n",
       "       [322],\n",
       "       [324],\n",
       "       [326],\n",
       "       [328],\n",
       "       [330],\n",
       "       [332],\n",
       "       [334],\n",
       "       [336],\n",
       "       [338],\n",
       "       [340],\n",
       "       [342],\n",
       "       [344],\n",
       "       [346],\n",
       "       [348],\n",
       "       [350],\n",
       "       [352],\n",
       "       [354],\n",
       "       [356],\n",
       "       [358]], dtype=uint16)"
      ]
     },
     "execution_count": 20,
     "metadata": {},
     "output_type": "execute_result"
    }
   ],
   "source": [
    "lon_axis"
   ]
  },
  {
   "cell_type": "code",
   "execution_count": 21,
   "metadata": {},
   "outputs": [
    {
     "data": {
      "text/plain": [
       "masked_array(data=[19723., 19754., 19782., ..., 80474., 80505., 80535.],\n",
       "             mask=False,\n",
       "       fill_value=1e+20)"
      ]
     },
     "execution_count": 21,
     "metadata": {},
     "output_type": "execute_result"
    }
   ],
   "source": [
    "er_time"
   ]
  },
  {
   "cell_type": "code",
   "execution_count": 55,
   "metadata": {},
   "outputs": [],
   "source": [
    "er_datetime= [datetime(1800,1,1) + timedelta(days= i) for i in er_time]\n",
    "\n",
    "\n"
   ]
  },
  {
   "cell_type": "code",
   "execution_count": 57,
   "metadata": {},
   "outputs": [
    {
     "data": {
      "text/plain": [
       "datetime.datetime(2020, 7, 1, 0, 0)"
      ]
     },
     "execution_count": 57,
     "metadata": {},
     "output_type": "execute_result"
    }
   ],
   "source": [
    "er_datetime[-1]"
   ]
  },
  {
   "cell_type": "code",
   "execution_count": 36,
   "metadata": {},
   "outputs": [],
   "source": [
    "er_refstart = [(datetime(1800,1,1) + timedelta(days= i)-datetime(1900,1,1)).days for i in er_time]\n",
    "er_refend = [(datetime(1800,1,1) + timedelta(days= i)-datetime(2017,1,1)).days for i in er_time]\n",
    "\n"
   ]
  },
  {
   "cell_type": "code",
   "execution_count": 61,
   "metadata": {},
   "outputs": [
    {
     "data": {
      "text/plain": [
       "array([ 88,  86,  84,  82,  80,  78,  76,  74,  72,  70,  68,  66,  64,\n",
       "        62,  60,  58,  56,  54,  52,  50,  48,  46,  44,  42,  40,  38,\n",
       "        36,  34,  32,  30,  28,  26,  24,  22,  20,  18,  16,  14,  12,\n",
       "        10,   8,   6,   4,   2,   0,  -2,  -4,  -6,  -8, -10, -12, -14,\n",
       "       -16, -18, -20, -22, -24, -26, -28, -30, -32, -34, -36, -38, -40,\n",
       "       -42, -44, -46, -48, -50, -52, -54, -56, -58, -60, -62, -64, -66,\n",
       "       -68, -70, -72, -74, -76, -78, -80, -82, -84, -86, -88,  88,  86,\n",
       "        84,  82,  80,  78,  76,  74,  72,  70,  68,  66,  64,  62,  60,\n",
       "        58,  56,  54,  52,  50,  48,  46,  44,  42,  40,  38,  36,  34,\n",
       "        32,  30,  28,  26,  24,  22,  20,  18,  16,  14,  12,  10,   8,\n",
       "         6,   4,   2,   0,  -2,  -4,  -6,  -8, -10, -12, -14, -16, -18,\n",
       "       -20, -22, -24, -26, -28, -30, -32, -34, -36, -38, -40, -42, -44,\n",
       "       -46, -48, -50, -52, -54, -56, -58, -60, -62, -64, -66, -68, -70,\n",
       "       -72, -74, -76, -78, -80, -82, -84, -86, -88], dtype=int16)"
      ]
     },
     "execution_count": 61,
     "metadata": {},
     "output_type": "execute_result"
    }
   ],
   "source": [
    "np.concatenate([lat_axis[0],lat_axis[0]])"
   ]
  },
  {
   "cell_type": "code",
   "execution_count": 42,
   "metadata": {},
   "outputs": [
    {
     "data": {
      "text/plain": [
       "1956"
      ]
     },
     "execution_count": 42,
     "metadata": {},
     "output_type": "execute_result"
    }
   ],
   "source": [
    "er_refstart.index(0)\n",
    "er_refend.index(0)"
   ]
  },
  {
   "cell_type": "code",
   "execution_count": 41,
   "metadata": {},
   "outputs": [
    {
     "data": {
      "text/plain": [
       "0"
      ]
     },
     "execution_count": 41,
     "metadata": {},
     "output_type": "execute_result"
    }
   ],
   "source": [
    "er_refstart[552]"
   ]
  },
  {
   "cell_type": "code",
   "execution_count": 43,
   "metadata": {},
   "outputs": [
    {
     "data": {
      "text/plain": [
       "0"
      ]
     },
     "execution_count": 43,
     "metadata": {},
     "output_type": "execute_result"
    }
   ],
   "source": [
    "er_refend[1956]"
   ]
  },
  {
   "cell_type": "code",
   "execution_count": 26,
   "metadata": {},
   "outputs": [
    {
     "data": {
      "text/plain": [
       "(180, 89, 1404)"
      ]
     },
     "execution_count": 26,
     "metadata": {},
     "output_type": "execute_result"
    }
   ],
   "source": [
    "sst.shape"
   ]
  },
  {
   "cell_type": "code",
   "execution_count": 27,
   "metadata": {},
   "outputs": [
    {
     "data": {
      "text/plain": [
       "(1999, 89, 180)"
      ]
     },
     "execution_count": 27,
     "metadata": {},
     "output_type": "execute_result"
    }
   ],
   "source": [
    "er_sst.shape"
   ]
  },
  {
   "cell_type": "code",
   "execution_count": 46,
   "metadata": {},
   "outputs": [
    {
     "data": {
      "text/plain": [
       "552"
      ]
     },
     "execution_count": 46,
     "metadata": {},
     "output_type": "execute_result"
    }
   ],
   "source": [
    "er_refstart.index(0)"
   ]
  },
  {
   "cell_type": "code",
   "execution_count": 47,
   "metadata": {},
   "outputs": [
    {
     "data": {
      "text/plain": [
       "1956"
      ]
     },
     "execution_count": 47,
     "metadata": {},
     "output_type": "execute_result"
    }
   ],
   "source": [
    "er_refend.index(0)"
   ]
  },
  {
   "cell_type": "code",
   "execution_count": 48,
   "metadata": {},
   "outputs": [
    {
     "data": {
      "text/plain": [
       "(1999, 89, 180)"
      ]
     },
     "execution_count": 48,
     "metadata": {},
     "output_type": "execute_result"
    }
   ],
   "source": [
    "er_sst.shape"
   ]
  },
  {
   "cell_type": "code",
   "execution_count": 49,
   "metadata": {},
   "outputs": [],
   "source": [
    "er_sstT = er_sst[er_refstart.index(0):er_refend.index(0),:,:].transpose([2,1,0])"
   ]
  },
  {
   "cell_type": "code",
   "execution_count": 50,
   "metadata": {},
   "outputs": [
    {
     "data": {
      "text/plain": [
       "(180, 89, 1404)"
      ]
     },
     "execution_count": 50,
     "metadata": {},
     "output_type": "execute_result"
    }
   ],
   "source": [
    "er_sstT.shape"
   ]
  },
  {
   "cell_type": "code",
   "execution_count": 51,
   "metadata": {},
   "outputs": [
    {
     "data": {
      "text/plain": [
       "(180, 89, 1404)"
      ]
     },
     "execution_count": 51,
     "metadata": {},
     "output_type": "execute_result"
    }
   ],
   "source": [
    "sst.shape\n"
   ]
  },
  {
   "cell_type": "code",
   "execution_count": 53,
   "metadata": {},
   "outputs": [
    {
     "data": {
      "text/plain": [
       "-1.7999999523162842"
      ]
     },
     "execution_count": 53,
     "metadata": {},
     "output_type": "execute_result"
    }
   ],
   "source": [
    "np.nanmin(sst)"
   ]
  },
  {
   "cell_type": "code",
   "execution_count": null,
   "metadata": {},
   "outputs": [],
   "source": []
  }
 ],
 "metadata": {
  "kernelspec": {
   "display_name": "Python 3",
   "language": "python",
   "name": "python3"
  },
  "language_info": {
   "codemirror_mode": {
    "name": "ipython",
    "version": 3
   },
   "file_extension": ".py",
   "mimetype": "text/x-python",
   "name": "python",
   "nbconvert_exporter": "python",
   "pygments_lexer": "ipython3",
   "version": "3.7.3"
  }
 },
 "nbformat": 4,
 "nbformat_minor": 4
}
